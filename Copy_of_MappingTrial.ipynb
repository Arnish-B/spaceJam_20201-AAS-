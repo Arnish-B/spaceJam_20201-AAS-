{
  "nbformat": 4,
  "nbformat_minor": 0,
  "metadata": {
    "colab": {
      "name": "Copy of MappingTrial.ipynb",
      "provenance": [],
      "collapsed_sections": [],
      "include_colab_link": true
    },
    "kernelspec": {
      "name": "python3",
      "display_name": "Python 3"
    }
  },
  "cells": [
    {
      "cell_type": "markdown",
      "metadata": {
        "id": "view-in-github",
        "colab_type": "text"
      },
      "source": [
        "<a href=\"https://colab.research.google.com/github/Arnish-B/spaceJam_20201-AAS-/blob/master/Copy_of_MappingTrial.ipynb\" target=\"_parent\"><img src=\"https://colab.research.google.com/assets/colab-badge.svg\" alt=\"Open In Colab\"/></a>"
      ]
    },
    {
      "cell_type": "code",
      "metadata": {
        "colab": {
          "base_uri": "https://localhost:8080/"
        },
        "id": "eL4TKHuQDAwB",
        "outputId": "ea9b3d39-821c-4099-aae8-739364d58b0a"
      },
      "source": [
        "pip install twilio"
      ],
      "execution_count": null,
      "outputs": [
        {
          "output_type": "stream",
          "text": [
            "Collecting twilio\n",
            "\u001b[?25l  Downloading https://files.pythonhosted.org/packages/c7/c2/aad9b42e2513a09b10630558a392d557d193feeece1b1d0bb3154b4d4c13/twilio-6.53.0.tar.gz (470kB)\n",
            "\u001b[K     |████████████████████████████████| 471kB 6.6MB/s \n",
            "\u001b[?25hRequirement already satisfied: six in /usr/local/lib/python3.7/dist-packages (from twilio) (1.15.0)\n",
            "Requirement already satisfied: pytz in /usr/local/lib/python3.7/dist-packages (from twilio) (2018.9)\n",
            "Collecting PyJWT==1.7.1\n",
            "  Downloading https://files.pythonhosted.org/packages/87/8b/6a9f14b5f781697e51259d81657e6048fd31a113229cf346880bb7545565/PyJWT-1.7.1-py2.py3-none-any.whl\n",
            "Requirement already satisfied: requests>=2.0.0 in /usr/local/lib/python3.7/dist-packages (from twilio) (2.25.1)\n",
            "Requirement already satisfied: chardet<5,>=3.0.2 in /usr/local/lib/python3.7/dist-packages (from requests>=2.0.0->twilio) (3.0.4)\n",
            "Requirement already satisfied: urllib3<1.27,>=1.21.1 in /usr/local/lib/python3.7/dist-packages (from requests>=2.0.0->twilio) (1.24.3)\n",
            "Requirement already satisfied: certifi>=2017.4.17 in /usr/local/lib/python3.7/dist-packages (from requests>=2.0.0->twilio) (2020.12.5)\n",
            "Requirement already satisfied: idna<3,>=2.5 in /usr/local/lib/python3.7/dist-packages (from requests>=2.0.0->twilio) (2.10)\n",
            "Building wheels for collected packages: twilio\n",
            "  Building wheel for twilio (setup.py) ... \u001b[?25l\u001b[?25hdone\n",
            "  Created wheel for twilio: filename=twilio-6.53.0-py2.py3-none-any.whl size=1251197 sha256=13fd89c0b0c9904892cd81e3569ef0cc2238a8ee0abe9e1f9b45e895332e85d0\n",
            "  Stored in directory: /root/.cache/pip/wheels/80/92/b0/f7fcc5d56edd9d23fe35c73400c6f600aefe736e05a9e70806\n",
            "Successfully built twilio\n",
            "Installing collected packages: PyJWT, twilio\n",
            "Successfully installed PyJWT-1.7.1 twilio-6.53.0\n"
          ],
          "name": "stdout"
        }
      ]
    },
    {
      "cell_type": "code",
      "metadata": {
        "colab": {
          "base_uri": "https://localhost:8080/"
        },
        "id": "MIjqMhTh3raV",
        "outputId": "dca47bc1-62ea-44e4-962a-e575730847c8"
      },
      "source": [
        "pip install pywhatkit"
      ],
      "execution_count": null,
      "outputs": [
        {
          "output_type": "stream",
          "text": [
            "Collecting pywhatkit\n",
            "  Downloading https://files.pythonhosted.org/packages/2f/bf/6b9a6d676d526156ca7639ec61b1202d1192b4e4d806639aec507a66546e/pywhatkit-3.9-py3-none-any.whl\n",
            "Requirement already satisfied: requests in /usr/local/lib/python3.7/dist-packages (from pywhatkit) (2.25.1)\n",
            "Collecting wikipedia\n",
            "  Downloading https://files.pythonhosted.org/packages/67/35/25e68fbc99e672127cc6fbb14b8ec1ba3dfef035bf1e4c90f78f24a80b7d/wikipedia-1.4.0.tar.gz\n",
            "Requirement already satisfied: beautifulsoup4 in /usr/local/lib/python3.7/dist-packages (from pywhatkit) (4.6.3)\n",
            "Requirement already satisfied: Pillow in /usr/local/lib/python3.7/dist-packages (from pywhatkit) (7.0.0)\n",
            "Collecting pyautogui\n",
            "\u001b[?25l  Downloading https://files.pythonhosted.org/packages/40/0a/1373680148828d7ea3f0e432f06c08f51a33d72306719954d3ae379f5890/PyAutoGUI-0.9.52.tar.gz (55kB)\n",
            "\u001b[K     |████████████████████████████████| 61kB 3.3MB/s \n",
            "\u001b[?25hRequirement already satisfied: idna<3,>=2.5 in /usr/local/lib/python3.7/dist-packages (from requests->pywhatkit) (2.10)\n",
            "Requirement already satisfied: urllib3<1.27,>=1.21.1 in /usr/local/lib/python3.7/dist-packages (from requests->pywhatkit) (1.24.3)\n",
            "Requirement already satisfied: certifi>=2017.4.17 in /usr/local/lib/python3.7/dist-packages (from requests->pywhatkit) (2020.12.5)\n",
            "Requirement already satisfied: chardet<5,>=3.0.2 in /usr/local/lib/python3.7/dist-packages (from requests->pywhatkit) (3.0.4)\n",
            "Collecting pymsgbox\n",
            "  Downloading https://files.pythonhosted.org/packages/7d/ff/4c6f31a4f08979f12a663f2aeb6c8b765d3bd592e66eaaac445f547bb875/PyMsgBox-1.0.9.tar.gz\n",
            "  Installing build dependencies ... \u001b[?25l\u001b[?25hdone\n",
            "  Getting requirements to build wheel ... \u001b[?25l\u001b[?25hdone\n",
            "    Preparing wheel metadata ... \u001b[?25l\u001b[?25hdone\n",
            "Collecting PyTweening>=1.0.1\n",
            "  Downloading https://files.pythonhosted.org/packages/b9/f8/c32a58d6e4dff8aa5c27e907194d69f3b57e525c2e4af96f39c6e9c854d2/PyTweening-1.0.3.zip\n",
            "Collecting pyscreeze>=0.1.21\n",
            "  Downloading https://files.pythonhosted.org/packages/b7/7d/a0e85da28a96e2ff2f39e682ff84eb92501b564883fde87d92aee29966a2/PyScreeze-0.1.26.tar.gz\n",
            "Collecting pygetwindow>=0.0.5\n",
            "  Downloading https://files.pythonhosted.org/packages/e1/70/c7a4f46dbf06048c6d57d9489b8e0f9c4c3d36b7479f03c5ca97eaa2541d/PyGetWindow-0.0.9.tar.gz\n",
            "Collecting mouseinfo\n",
            "  Downloading https://files.pythonhosted.org/packages/28/fa/b2ba8229b9381e8f6381c1dcae6f4159a7f72349e414ed19cfbbd1817173/MouseInfo-0.1.3.tar.gz\n",
            "Collecting python3-Xlib\n",
            "\u001b[?25l  Downloading https://files.pythonhosted.org/packages/ef/c6/2c5999de3bb1533521f1101e8fe56fd9c266732f4d48011c7c69b29d12ae/python3-xlib-0.15.tar.gz (132kB)\n",
            "\u001b[K     |████████████████████████████████| 133kB 8.1MB/s \n",
            "\u001b[?25hCollecting pyrect\n",
            "  Downloading https://files.pythonhosted.org/packages/2f/68/bd7bf96fc44217e769f27912e6c9bb3e9987cba286054af6120448ce8212/PyRect-0.1.4.tar.gz\n",
            "Collecting pyperclip\n",
            "  Downloading https://files.pythonhosted.org/packages/a7/2c/4c64579f847bd5d539803c8b909e54ba087a79d01bb3aba433a95879a6c5/pyperclip-1.8.2.tar.gz\n",
            "Building wheels for collected packages: pymsgbox\n",
            "  Building wheel for pymsgbox (PEP 517) ... \u001b[?25l\u001b[?25hdone\n",
            "  Created wheel for pymsgbox: filename=PyMsgBox-1.0.9-cp37-none-any.whl size=7420 sha256=1976d203f2c3fb58cf72bedfad1ed1906349611750cf5a505977596bc74ad15c\n",
            "  Stored in directory: /root/.cache/pip/wheels/16/d7/4e/fffdd54b1cca86608b7655c9a2854890a38f955ce9532848cd\n",
            "Successfully built pymsgbox\n",
            "Building wheels for collected packages: wikipedia, pyautogui, PyTweening, pyscreeze, pygetwindow, mouseinfo, python3-Xlib, pyrect, pyperclip\n",
            "  Building wheel for wikipedia (setup.py) ... \u001b[?25l\u001b[?25hdone\n",
            "  Created wheel for wikipedia: filename=wikipedia-1.4.0-cp37-none-any.whl size=11686 sha256=524398009f656917f69462ae98068db836e6e9ea6ebeadd1fd20edd7e952d84e\n",
            "  Stored in directory: /root/.cache/pip/wheels/87/2a/18/4e471fd96d12114d16fe4a446d00c3b38fb9efcb744bd31f4a\n",
            "  Building wheel for pyautogui (setup.py) ... \u001b[?25l\u001b[?25hdone\n",
            "  Created wheel for pyautogui: filename=PyAutoGUI-0.9.52-cp37-none-any.whl size=35194 sha256=ff9df125702b41821da7de1c7ec67027a7b66647731c44ed141bfcfb795cc142\n",
            "  Stored in directory: /root/.cache/pip/wheels/c8/ae/a9/62d83c8ea2068e8553766c8f6f5fbf1f61d264701cafeca49f\n",
            "  Building wheel for PyTweening (setup.py) ... \u001b[?25l\u001b[?25hdone\n",
            "  Created wheel for PyTweening: filename=PyTweening-1.0.3-cp37-none-any.whl size=3817 sha256=4587b1d18a3280049cfb3855a7796add39fe5e2b9cb7d68e65f0ccce60fece7c\n",
            "  Stored in directory: /root/.cache/pip/wheels/7b/92/30/06e21159eed2709436bfb6d7c690959e578cf74f029643866e\n",
            "  Building wheel for pyscreeze (setup.py) ... \u001b[?25l\u001b[?25hdone\n",
            "  Created wheel for pyscreeze: filename=PyScreeze-0.1.26-cp37-none-any.whl size=11934 sha256=c7d1487eed5dd188e04a501f906ab46cfffa686e1e7c2d6ed8c8441a427e18d0\n",
            "  Stored in directory: /root/.cache/pip/wheels/d4/a5/e1/d06a3ae91e6c66ab67d540c215bc2a0da99155c1281e8c921e\n",
            "  Building wheel for pygetwindow (setup.py) ... \u001b[?25l\u001b[?25hdone\n",
            "  Created wheel for pygetwindow: filename=PyGetWindow-0.0.9-cp37-none-any.whl size=11081 sha256=61ab69b76f26f71a636d40afd17a53536e96d58382c5ff0aadf243239a788b6c\n",
            "  Stored in directory: /root/.cache/pip/wheels/4b/c1/c6/89b4fb35adcbfe54c5e71e830330dc39cfa231b32dc62eed6b\n",
            "  Building wheel for mouseinfo (setup.py) ... \u001b[?25l\u001b[?25hdone\n",
            "  Created wheel for mouseinfo: filename=MouseInfo-0.1.3-cp37-none-any.whl size=10907 sha256=7cea437d3b3c28016d2ad2c8e8bdca66d0518c7dfd412893a7f48220e98016e0\n",
            "  Stored in directory: /root/.cache/pip/wheels/eb/81/32/4d7b345486dbc3f3ee45316f8f4cbdebafc1b5d1da3353b529\n",
            "  Building wheel for python3-Xlib (setup.py) ... \u001b[?25l\u001b[?25hdone\n",
            "  Created wheel for python3-Xlib: filename=python3_xlib-0.15-cp37-none-any.whl size=109517 sha256=b2dc406827c9dfd3e6a3ebb57a8e552a6c1fc9b538fac55b7ce3cb76efbc3dea\n",
            "  Stored in directory: /root/.cache/pip/wheels/e9/be/31/bebab5ac079cfa8305381fa6ee15ea142eade1fec0c71e1278\n",
            "  Building wheel for pyrect (setup.py) ... \u001b[?25l\u001b[?25hdone\n",
            "  Created wheel for pyrect: filename=PyRect-0.1.4-py2.py3-none-any.whl size=9547 sha256=49fd3578e99d1681082d641697ca69780d6bc99750e3bdb6642d35ddd5cce6c3\n",
            "  Stored in directory: /root/.cache/pip/wheels/3e/61/83/8fd1478e984f7378e57972f5fd9bb0dbffc349fefc9efa5bf9\n",
            "  Building wheel for pyperclip (setup.py) ... \u001b[?25l\u001b[?25hdone\n",
            "  Created wheel for pyperclip: filename=pyperclip-1.8.2-cp37-none-any.whl size=11107 sha256=8cda94dd95f5939f6bc6915e7b49884fa9c37580b56e56994d3d734b3655a8ba\n",
            "  Stored in directory: /root/.cache/pip/wheels/25/af/b8/3407109267803f4015e1ee2ff23be0c8c19ce4008665931ee1\n",
            "Successfully built wikipedia pyautogui PyTweening pyscreeze pygetwindow mouseinfo python3-Xlib pyrect pyperclip\n",
            "Installing collected packages: wikipedia, pymsgbox, PyTweening, pyscreeze, pyrect, pygetwindow, pyperclip, python3-Xlib, mouseinfo, pyautogui, pywhatkit\n",
            "Successfully installed PyTweening-1.0.3 mouseinfo-0.1.3 pyautogui-0.9.52 pygetwindow-0.0.9 pymsgbox-1.0.9 pyperclip-1.8.2 pyrect-0.1.4 pyscreeze-0.1.26 python3-Xlib-0.15 pywhatkit-3.9 wikipedia-1.4.0\n"
          ],
          "name": "stdout"
        }
      ]
    },
    {
      "cell_type": "code",
      "metadata": {
        "colab": {
          "base_uri": "https://localhost:8080/"
        },
        "id": "2xf1qK63zOXd",
        "outputId": "1915d4e3-0f65-44e6-eedd-56c09f28ea9e"
      },
      "source": [
        "pip install geocoder"
      ],
      "execution_count": null,
      "outputs": [
        {
          "output_type": "stream",
          "text": [
            "Collecting geocoder\n",
            "\u001b[?25l  Downloading https://files.pythonhosted.org/packages/4f/6b/13166c909ad2f2d76b929a4227c952630ebaf0d729f6317eb09cbceccbab/geocoder-1.38.1-py2.py3-none-any.whl (98kB)\n",
            "\r\u001b[K     |███▎                            | 10kB 13.0MB/s eta 0:00:01\r\u001b[K     |██████▋                         | 20kB 19.1MB/s eta 0:00:01\r\u001b[K     |██████████                      | 30kB 11.7MB/s eta 0:00:01\r\u001b[K     |█████████████▎                  | 40kB 9.8MB/s eta 0:00:01\r\u001b[K     |████████████████▋               | 51kB 7.1MB/s eta 0:00:01\r\u001b[K     |████████████████████            | 61kB 6.8MB/s eta 0:00:01\r\u001b[K     |███████████████████████▎        | 71kB 6.9MB/s eta 0:00:01\r\u001b[K     |██████████████████████████▋     | 81kB 7.7MB/s eta 0:00:01\r\u001b[K     |██████████████████████████████  | 92kB 8.1MB/s eta 0:00:01\r\u001b[K     |████████████████████████████████| 102kB 4.7MB/s \n",
            "\u001b[?25hRequirement already satisfied: six in /usr/local/lib/python3.7/dist-packages (from geocoder) (1.15.0)\n",
            "Requirement already satisfied: future in /usr/local/lib/python3.7/dist-packages (from geocoder) (0.16.0)\n",
            "Requirement already satisfied: click in /usr/local/lib/python3.7/dist-packages (from geocoder) (7.1.2)\n",
            "Collecting ratelim\n",
            "  Downloading https://files.pythonhosted.org/packages/f2/98/7e6d147fd16a10a5f821db6e25f192265d6ecca3d82957a4fdd592cad49c/ratelim-0.1.6-py2.py3-none-any.whl\n",
            "Requirement already satisfied: requests in /usr/local/lib/python3.7/dist-packages (from geocoder) (2.25.1)\n",
            "Requirement already satisfied: decorator in /usr/local/lib/python3.7/dist-packages (from ratelim->geocoder) (4.4.2)\n",
            "Requirement already satisfied: chardet<5,>=3.0.2 in /usr/local/lib/python3.7/dist-packages (from requests->geocoder) (3.0.4)\n",
            "Requirement already satisfied: idna<3,>=2.5 in /usr/local/lib/python3.7/dist-packages (from requests->geocoder) (2.10)\n",
            "Requirement already satisfied: urllib3<1.27,>=1.21.1 in /usr/local/lib/python3.7/dist-packages (from requests->geocoder) (1.24.3)\n",
            "Requirement already satisfied: certifi>=2017.4.17 in /usr/local/lib/python3.7/dist-packages (from requests->geocoder) (2020.12.5)\n",
            "Installing collected packages: ratelim, geocoder\n",
            "Successfully installed geocoder-1.38.1 ratelim-0.1.6\n"
          ],
          "name": "stdout"
        }
      ]
    },
    {
      "cell_type": "code",
      "metadata": {
        "id": "at2vmm0nqcYy",
        "colab": {
          "base_uri": "https://localhost:8080/",
          "height": 1000
        },
        "outputId": "952aa501-f839-4fcc-e4b4-3a7940b8f24d"
      },
      "source": [
        "pip install osmnx"
      ],
      "execution_count": null,
      "outputs": [
        {
          "output_type": "stream",
          "text": [
            "Collecting osmnx\n",
            "\u001b[?25l  Downloading https://files.pythonhosted.org/packages/e3/43/1f5fb0d221c422c019b3b1b3ce6c5d48e6c2e05ee936cbf8d26c979f1310/osmnx-1.0.1-py2.py3-none-any.whl (87kB)\n",
            "\r\u001b[K     |███▊                            | 10kB 11.8MB/s eta 0:00:01\r\u001b[K     |███████▌                        | 20kB 17.9MB/s eta 0:00:01\r\u001b[K     |███████████▎                    | 30kB 16.4MB/s eta 0:00:01\r\u001b[K     |███████████████                 | 40kB 10.7MB/s eta 0:00:01\r\u001b[K     |██████████████████▊             | 51kB 7.1MB/s eta 0:00:01\r\u001b[K     |██████████████████████▌         | 61kB 6.3MB/s eta 0:00:01\r\u001b[K     |██████████████████████████▏     | 71kB 7.0MB/s eta 0:00:01\r\u001b[K     |██████████████████████████████  | 81kB 7.8MB/s eta 0:00:01\r\u001b[K     |████████████████████████████████| 92kB 4.8MB/s \n",
            "\u001b[?25hRequirement already satisfied: Shapely>=1.7 in /usr/local/lib/python3.7/dist-packages (from osmnx) (1.7.1)\n",
            "Collecting geopandas>=0.8\n",
            "\u001b[?25l  Downloading https://files.pythonhosted.org/packages/2a/9f/e8a440a993e024c0d3d4e5c7d3346367c50c9a1a3d735caf5ee3bde0aab1/geopandas-0.8.2-py2.py3-none-any.whl (962kB)\n",
            "\u001b[K     |████████████████████████████████| 972kB 9.4MB/s \n",
            "\u001b[?25hRequirement already satisfied: networkx>=2.5 in /usr/local/lib/python3.7/dist-packages (from osmnx) (2.5)\n",
            "Collecting matplotlib>=3.3\n",
            "\u001b[?25l  Downloading https://files.pythonhosted.org/packages/23/3d/db9a6b3c83c9511301152dbb64a029c3a4313c86eaef12c237b13ecf91d6/matplotlib-3.3.4-cp37-cp37m-manylinux1_x86_64.whl (11.5MB)\n",
            "\u001b[K     |████████████████████████████████| 11.6MB 20.9MB/s \n",
            "\u001b[?25hCollecting pyproj>=2.6\n",
            "\u001b[?25l  Downloading https://files.pythonhosted.org/packages/05/0c/d7c2c7c370ea5368b813a44e772247ed1a461dc47de70c5d02e079abc7e0/pyproj-3.0.0.post1-cp37-cp37m-manylinux2010_x86_64.whl (6.4MB)\n",
            "\u001b[K     |████████████████████████████████| 6.5MB 42.0MB/s \n",
            "\u001b[?25hRequirement already satisfied: descartes>=1.1 in /usr/local/lib/python3.7/dist-packages (from osmnx) (1.1.0)\n",
            "Collecting Rtree>=0.9\n",
            "\u001b[?25l  Downloading https://files.pythonhosted.org/packages/51/05/5a67111cee91d2165a2bcb855f442186e3d76ddef834596cc84d4875c401/Rtree-0.9.7-cp37-cp37m-manylinux2010_x86_64.whl (994kB)\n",
            "\u001b[K     |████████████████████████████████| 1.0MB 47.5MB/s \n",
            "\u001b[?25hRequirement already satisfied: numpy>=1.19 in /usr/local/lib/python3.7/dist-packages (from osmnx) (1.19.5)\n",
            "Requirement already satisfied: pandas>=1.1 in /usr/local/lib/python3.7/dist-packages (from osmnx) (1.1.5)\n",
            "Collecting requests>=2.25\n",
            "\u001b[?25l  Downloading https://files.pythonhosted.org/packages/29/c1/24814557f1d22c56d50280771a17307e6bf87b70727d975fd6b2ce6b014a/requests-2.25.1-py2.py3-none-any.whl (61kB)\n",
            "\u001b[K     |████████████████████████████████| 61kB 6.4MB/s \n",
            "\u001b[?25hCollecting fiona\n",
            "\u001b[?25l  Downloading https://files.pythonhosted.org/packages/47/c2/67d1d0acbaaee3b03e5e22e3b96c33219cb5dd392531c9ff9cee7c2eb3e4/Fiona-1.8.18-cp37-cp37m-manylinux1_x86_64.whl (14.8MB)\n",
            "\u001b[K     |████████████████████████████████| 14.8MB 179kB/s \n",
            "\u001b[?25hRequirement already satisfied: decorator>=4.3.0 in /usr/local/lib/python3.7/dist-packages (from networkx>=2.5->osmnx) (4.4.2)\n",
            "Requirement already satisfied: cycler>=0.10 in /usr/local/lib/python3.7/dist-packages (from matplotlib>=3.3->osmnx) (0.10.0)\n",
            "Requirement already satisfied: pillow>=6.2.0 in /usr/local/lib/python3.7/dist-packages (from matplotlib>=3.3->osmnx) (7.0.0)\n",
            "Requirement already satisfied: pyparsing!=2.0.4,!=2.1.2,!=2.1.6,>=2.0.3 in /usr/local/lib/python3.7/dist-packages (from matplotlib>=3.3->osmnx) (2.4.7)\n",
            "Requirement already satisfied: python-dateutil>=2.1 in /usr/local/lib/python3.7/dist-packages (from matplotlib>=3.3->osmnx) (2.8.1)\n",
            "Requirement already satisfied: kiwisolver>=1.0.1 in /usr/local/lib/python3.7/dist-packages (from matplotlib>=3.3->osmnx) (1.3.1)\n",
            "Requirement already satisfied: certifi in /usr/local/lib/python3.7/dist-packages (from pyproj>=2.6->osmnx) (2020.12.5)\n",
            "Requirement already satisfied: pytz>=2017.2 in /usr/local/lib/python3.7/dist-packages (from pandas>=1.1->osmnx) (2018.9)\n",
            "Requirement already satisfied: urllib3<1.27,>=1.21.1 in /usr/local/lib/python3.7/dist-packages (from requests>=2.25->osmnx) (1.24.3)\n",
            "Requirement already satisfied: chardet<5,>=3.0.2 in /usr/local/lib/python3.7/dist-packages (from requests>=2.25->osmnx) (3.0.4)\n",
            "Requirement already satisfied: idna<3,>=2.5 in /usr/local/lib/python3.7/dist-packages (from requests>=2.25->osmnx) (2.10)\n",
            "Collecting click-plugins>=1.0\n",
            "  Downloading https://files.pythonhosted.org/packages/e9/da/824b92d9942f4e472702488857914bdd50f73021efea15b4cad9aca8ecef/click_plugins-1.1.1-py2.py3-none-any.whl\n",
            "Collecting cligj>=0.5\n",
            "  Downloading https://files.pythonhosted.org/packages/42/1e/947eadf10d6804bf276eb8a038bd5307996dceaaa41cfd21b7a15ec62f5d/cligj-0.7.1-py3-none-any.whl\n",
            "Requirement already satisfied: attrs>=17 in /usr/local/lib/python3.7/dist-packages (from fiona->geopandas>=0.8->osmnx) (20.3.0)\n",
            "Collecting munch\n",
            "  Downloading https://files.pythonhosted.org/packages/cc/ab/85d8da5c9a45e072301beb37ad7f833cd344e04c817d97e0cc75681d248f/munch-2.5.0-py2.py3-none-any.whl\n",
            "Requirement already satisfied: click<8,>=4.0 in /usr/local/lib/python3.7/dist-packages (from fiona->geopandas>=0.8->osmnx) (7.1.2)\n",
            "Requirement already satisfied: six>=1.7 in /usr/local/lib/python3.7/dist-packages (from fiona->geopandas>=0.8->osmnx) (1.15.0)\n",
            "\u001b[31mERROR: google-colab 1.0.0 has requirement requests~=2.23.0, but you'll have requests 2.25.1 which is incompatible.\u001b[0m\n",
            "\u001b[31mERROR: datascience 0.10.6 has requirement folium==0.2.1, but you'll have folium 0.8.3 which is incompatible.\u001b[0m\n",
            "\u001b[31mERROR: albumentations 0.1.12 has requirement imgaug<0.2.7,>=0.2.5, but you'll have imgaug 0.2.9 which is incompatible.\u001b[0m\n",
            "Installing collected packages: click-plugins, cligj, munch, fiona, pyproj, geopandas, matplotlib, Rtree, requests, osmnx\n",
            "  Found existing installation: matplotlib 3.2.2\n",
            "    Uninstalling matplotlib-3.2.2:\n",
            "      Successfully uninstalled matplotlib-3.2.2\n",
            "  Found existing installation: requests 2.23.0\n",
            "    Uninstalling requests-2.23.0:\n",
            "      Successfully uninstalled requests-2.23.0\n",
            "Successfully installed Rtree-0.9.7 click-plugins-1.1.1 cligj-0.7.1 fiona-1.8.18 geopandas-0.8.2 matplotlib-3.3.4 munch-2.5.0 osmnx-1.0.1 pyproj-3.0.0.post1 requests-2.25.1\n"
          ],
          "name": "stdout"
        },
        {
          "output_type": "display_data",
          "data": {
            "application/vnd.colab-display-data+json": {
              "pip_warning": {
                "packages": [
                  "matplotlib",
                  "mpl_toolkits"
                ]
              }
            }
          },
          "metadata": {
            "tags": []
          }
        }
      ]
    },
    {
      "cell_type": "markdown",
      "metadata": {
        "id": "mIfIGusxiO8U"
      },
      "source": [
        "###Importing Libraries"
      ]
    },
    {
      "cell_type": "code",
      "metadata": {
        "id": "ugq3t9ikW8Mu"
      },
      "source": [
        "# !apt-get -qq install -y libspatialindex-dev && pip install -q -U osmnx \r\n",
        "import osmnx as ox \r\n",
        "ox.config(use_cache=True, log_console=True)"
      ],
      "execution_count": null,
      "outputs": []
    },
    {
      "cell_type": "code",
      "metadata": {
        "id": "2mjmZ-KgWxq7"
      },
      "source": [
        "import networkx as nx\r\n",
        "import plotly.graph_objects as go\r\n",
        "import numpy as np"
      ],
      "execution_count": null,
      "outputs": []
    },
    {
      "cell_type": "markdown",
      "metadata": {
        "id": "u27BLtBGiStg"
      },
      "source": [
        "###Plotting city and graph of nodes within city"
      ]
    },
    {
      "cell_type": "code",
      "metadata": {
        "colab": {
          "base_uri": "https://localhost:8080/",
          "height": 248
        },
        "id": "JCNYcLFJX8YH",
        "outputId": "69c60a22-2ad5-4e1a-99ce-ee92218d64b2"
      },
      "source": [
        "city = ox.geocode_to_gdf('Bengaluru, India')\r\n",
        "ax = ox.project_gdf(city).plot(fc='teal', ec='none')\r\n",
        "_ = ax.axis('off')"
      ],
      "execution_count": null,
      "outputs": [
        {
          "output_type": "display_data",
          "data": {
            "image/png": "[encoded data removed]",
            "text/plain": [
              "<Figure size 432x288 with 1 Axes>"
            ]
          },
          "metadata": {
            "tags": [],
            "needs_background": "light"
          }
        }
      ]
    },
    {
      "cell_type": "code",
      "metadata": {
        "id": "bH6ja9aham6t",
        "colab": {
          "base_uri": "https://localhost:8080/",
          "height": 111
        },
        "outputId": "48d5a0e8-133b-4d00-cef6-e6a879a05b25"
      },
      "source": [
        "north, east, south, west = 13.1512, 77.7881, 12.8512, 75.4505  \r\n",
        "# Downloading the map as a graph object \r\n",
        "G = ox.graph_from_bbox(north, south, east, west, network_type = 'drive')  \r\n",
        "# Plotting the map graph \r\n",
        "ox.plot_graph(G,bgcolor='white',node_color='teal',edge_color='pink')"
      ],
      "execution_count": null,
      "outputs": [
        {
          "output_type": "display_data",
          "data": {
            "image/png": "[encoded data removed]",
            "text/plain": [
              "<Figure size 576x576 with 1 Axes>"
            ]
          },
          "metadata": {
            "tags": []
          }
        },
        {
          "output_type": "execute_result",
          "data": {
            "text/plain": [
              "(<Figure size 576x576 with 1 Axes>, <AxesSubplot:>)"
            ]
          },
          "metadata": {
            "tags": []
          },
          "execution_count": 4
        }
      ]
    },
    {
      "cell_type": "markdown",
      "metadata": {
        "id": "GZmTHgFKieRi"
      },
      "source": [
        "###Define Origin and Destination, values in co-ordinates"
      ]
    },
    {
      "cell_type": "code",
      "metadata": {
        "id": "PKWJ1QXKbk32"
      },
      "source": [
        "# define origin and desination locations \r\n",
        "origin_point = (13.095893, 77.571627) #Purva Venezia, Yelahanka\r\n",
        "destination_point = (13.051042, 77.593614) #Columbia Asia Hospital, Hebbal\r\n",
        "# get the nearest nodes to the locations \r\n",
        "origin_node = ox.get_nearest_node(G, origin_point) \r\n",
        "destination_node = ox.get_nearest_node(G, destination_point)\r\n"
      ],
      "execution_count": null,
      "outputs": []
    },
    {
      "cell_type": "code",
      "metadata": {
        "colab": {
          "base_uri": "https://localhost:8080/"
        },
        "id": "edjrNGNvbs7W",
        "outputId": "05032344-7884-4ea9-f9d4-b8522b8dfefd"
      },
      "source": [
        "# printing the closest node id to origin and destination points \r\n",
        "origin_node, destination_node"
      ],
      "execution_count": null,
      "outputs": [
        {
          "output_type": "execute_result",
          "data": {
            "text/plain": [
              "(4948835522, 6567016056)"
            ]
          },
          "metadata": {
            "tags": []
          },
          "execution_count": 6
        }
      ]
    },
    {
      "cell_type": "markdown",
      "metadata": {
        "id": "ZOe_dlZ6ioU7"
      },
      "source": [
        "###Calculate shortest route between origin and destination"
      ]
    },
    {
      "cell_type": "code",
      "metadata": {
        "colab": {
          "base_uri": "https://localhost:8080/"
        },
        "id": "bW9Ye-Bkb24_",
        "outputId": "a3b6ca9c-b10c-470a-d9ab-97312fb39689"
      },
      "source": [
        "# Finding the optimal path \r\n",
        "route = nx.shortest_path(G, origin_node, destination_node, weight = 'length') \r\n",
        "route"
      ],
      "execution_count": null,
      "outputs": [
        {
          "output_type": "execute_result",
          "data": {
            "text/plain": [
              "[4948835522,\n",
              " 4948835541,\n",
              " 4948835014,\n",
              " 4948835549,\n",
              " 4948835013,\n",
              " 959499445,\n",
              " 308448644,\n",
              " 2447924473,\n",
              " 2447924467,\n",
              " 2447924469,\n",
              " 2447924466,\n",
              " 2447924450,\n",
              " 2447924457,\n",
              " 2447924472,\n",
              " 2447926263,\n",
              " 2447926256,\n",
              " 2447926259,\n",
              " 308229366,\n",
              " 6168174992,\n",
              " 308229367,\n",
              " 1590866144,\n",
              " 959499426,\n",
              " 959502440,\n",
              " 308230784,\n",
              " 4399049935,\n",
              " 503471252,\n",
              " 960247474,\n",
              " 308230869,\n",
              " 960247494,\n",
              " 960247189,\n",
              " 308230871,\n",
              " 308230773,\n",
              " 308230703,\n",
              " 960240931,\n",
              " 308230875,\n",
              " 4948835729,\n",
              " 4948835731,\n",
              " 4948835727,\n",
              " 4208532146,\n",
              " 4208532144,\n",
              " 4206793334,\n",
              " 4206758390,\n",
              " 4206757779,\n",
              " 4206757754,\n",
              " 4206757743,\n",
              " 4948835724,\n",
              " 4948835725,\n",
              " 4206758398,\n",
              " 960240747,\n",
              " 4206833819,\n",
              " 960240821,\n",
              " 960247523,\n",
              " 960247353,\n",
              " 960247354,\n",
              " 960247047,\n",
              " 960247521,\n",
              " 960247308,\n",
              " 960247302,\n",
              " 960247257,\n",
              " 960240951,\n",
              " 960247485,\n",
              " 960247094,\n",
              " 960240550,\n",
              " 960247301,\n",
              " 960240846,\n",
              " 960247275,\n",
              " 960247461,\n",
              " 960247423,\n",
              " 960247181,\n",
              " 2450321064,\n",
              " 2450321081,\n",
              " 4104411994,\n",
              " 4104411993,\n",
              " 2450321068,\n",
              " 2450313548,\n",
              " 6857427260,\n",
              " 6857427280,\n",
              " 574367083,\n",
              " 489117893,\n",
              " 4952592574,\n",
              " 4122368447,\n",
              " 7481856918,\n",
              " 6857427287,\n",
              " 4952632171,\n",
              " 332955187,\n",
              " 1119960054,\n",
              " 332955188,\n",
              " 7401740658,\n",
              " 1119952220,\n",
              " 7401740659,\n",
              " 6567016056]"
            ]
          },
          "metadata": {
            "tags": []
          },
          "execution_count": 9
        }
      ]
    },
    {
      "cell_type": "code",
      "metadata": {
        "id": "oLu1yvvFb6wv",
        "colab": {
          "base_uri": "https://localhost:8080/"
        },
        "outputId": "30cbb5f6-40b5-416c-cc58-a9e0c887490c"
      },
      "source": [
        "#getting coordinates of the nodes\r\n",
        "#we will store the longitudes and latitudes in following list \r\n",
        "long = [] \r\n",
        "lat = []  \r\n",
        "for i in route:\r\n",
        "     point = G.nodes[i]\r\n",
        "     long.append(point['x'])\r\n",
        "     lat.append(point['y'])\r\n",
        "print(lat)\r\n",
        "print(long)"
      ],
      "execution_count": null,
      "outputs": [
        {
          "output_type": "stream",
          "text": [
            "[13.0956609, 13.0964934, 13.0976712, 13.0979147, 13.0980495, 13.0977355, 13.0978527, 13.097889, 13.0979251, 13.0979577, 13.0979804, 13.0980145, 13.0980391, 13.0980708, 13.0980937, 13.0981132, 13.0981212, 13.0982631, 13.0985647, 13.0987996, 13.0992995, 13.0993774, 13.0995074, 13.0993875, 13.0990158, 13.0987635, 13.0982237, 13.0979702, 13.097757, 13.097433, 13.0972607, 13.096111, 13.0954934, 13.0953077, 13.0944949, 13.0942589, 13.0934466, 13.0934233, 13.0927516, 13.0925603, 13.0922344, 13.0921493, 13.0916953, 13.0913365, 13.0911262, 13.0905985, 13.0903599, 13.090164, 13.0900486, 13.0895123, 13.089139, 13.0888819, 13.0887876, 13.0887057, 13.088607, 13.0884165, 13.0878205, 13.087522, 13.0871983, 13.0861746, 13.0850151, 13.0846019, 13.0839365, 13.0837682, 13.0834506, 13.0819482, 13.0815089, 13.081091, 13.079004, 13.0771609, 13.0756643, 13.0746592, 13.0732595, 13.0725745, 13.0734662, 13.073529, 13.0735214, 13.0734378, 13.06725, 13.0660225, 13.0645375, 13.0639498, 13.0624672, 13.0608845, 13.0599983, 13.0584761, 13.057327, 13.0560498, 13.0558545, 13.0542807, 13.0507377]\n",
            "[77.5705564, 77.5705378, 77.5701503, 77.5701761, 77.5701814, 77.567018, 77.5670114, 77.5672382, 77.5675022, 77.5677914, 77.5680866, 77.5683691, 77.5686584, 77.5689427, 77.5692133, 77.5695028, 77.5697652, 77.5709222, 77.5726495, 77.5739933, 77.5762845, 77.5766271, 77.5770934, 77.5771309, 77.5772595, 77.577343, 77.5775464, 77.5776595, 77.5777768, 77.5779637, 77.5780687, 77.578887, 77.5794844, 77.5796866, 77.5806784, 77.5810567, 77.5811301, 77.5811681, 77.5818206, 77.5820365, 77.5818874, 77.581848, 77.5827352, 77.5826114, 77.5825283, 77.5830685, 77.5829829, 77.5829126, 77.5831783, 77.58285, 77.5826215, 77.5834654, 77.5837751, 77.5840439, 77.5843679, 77.5849935, 77.5852076, 77.5851761, 77.5851419, 77.5850338, 77.5849114, 77.5848678, 77.5847975, 77.5847707, 77.5847201, 77.5842525, 77.5841157, 77.5839857, 77.5833385, 77.5825675, 77.5850678, 77.5873523, 77.5907721, 77.5925358, 77.5924966, 77.5924957, 77.592836, 77.5928441, 77.593296, 77.5934411, 77.5934748, 77.5934817, 77.5935607, 77.5936421, 77.5936563, 77.5936766, 77.593676, 77.5936632, 77.5936619, 77.5937502, 77.5933282]\n"
          ],
          "name": "stdout"
        }
      ]
    },
    {
      "cell_type": "code",
      "metadata": {
        "id": "ewsXyJMyr7Ci"
      },
      "source": [
        "def findpoint(ll,lon):\r\n",
        "  for i in range(len(lat)):\r\n",
        "    if lat[i]==ll:\r\n",
        "      for j in range(len(long)):\r\n",
        "        if long[j]==lon:\r\n",
        "          sendsms()\r\n",
        "\r\n",
        "    "
      ],
      "execution_count": null,
      "outputs": []
    },
    {
      "cell_type": "markdown",
      "metadata": {
        "id": "X9MDWmWgi4BF"
      },
      "source": [
        "###Function to plot route"
      ]
    },
    {
      "cell_type": "code",
      "metadata": {
        "id": "_LRZwS0Lb9n4"
      },
      "source": [
        "def plot_path(lat, long, origin_point, destination_point):\r\n",
        "    \r\n",
        "    \"\"\"\r\n",
        "    Given a list of latitudes and longitudes, origin \r\n",
        "    and destination point, plots a path on a map\r\n",
        "    \r\n",
        "    Parameters\r\n",
        "    ----------\r\n",
        "    lat, long: list of latitudes and longitudes\r\n",
        "    origin_point, destination_point: co-ordinates of origin\r\n",
        "    and destination\r\n",
        "    Returns\r\n",
        "    -------\r\n",
        "    Nothing. Only shows the map.\r\n",
        "    \"\"\"\r\n",
        "    # adding the lines joining the nodes\r\n",
        "    fig = go.Figure(go.Scattermapbox(\r\n",
        "        name = \"Path\",\r\n",
        "        mode = \"lines\",\r\n",
        "        lon = long,\r\n",
        "        lat = lat,\r\n",
        "        marker = {'size': 10},\r\n",
        "        line = dict(width = 4.5, color = 'blue')))\r\n",
        "    # adding source marker\r\n",
        "    fig.add_trace(go.Scattermapbox(\r\n",
        "        name = \"Source\",\r\n",
        "        mode = \"markers\",\r\n",
        "        lon = [origin_point[1]],\r\n",
        "        lat = [origin_point[0]],\r\n",
        "        marker = {'size': 12, 'color':\"red\"}))\r\n",
        "     \r\n",
        "    # adding destination marker\r\n",
        "    fig.add_trace(go.Scattermapbox(\r\n",
        "        name = \"Destination\",\r\n",
        "        mode = \"markers\",\r\n",
        "        lon = [destination_point[1]],\r\n",
        "        lat = [destination_point[0]],\r\n",
        "        marker = {'size': 12, 'color':'green'}))\r\n",
        "    \r\n",
        "    # getting center for plots:\r\n",
        "    lat_center = np.mean(lat)\r\n",
        "    long_center = np.mean(long)\r\n",
        "    # defining the layout using mapbox_style\r\n",
        "    fig.update_layout(mapbox_style=\"stamen-terrain\",\r\n",
        "        mapbox_center_lat = 30, mapbox_center_lon=-80)\r\n",
        "    fig.update_layout(margin={\"r\":0,\"t\":0,\"l\":0,\"b\":0},\r\n",
        "                      mapbox = {\r\n",
        "                          'center': {'lat': lat_center, \r\n",
        "                          'lon': long_center},\r\n",
        "                          'zoom': 13})\r\n",
        "    fig.show()"
      ],
      "execution_count": null,
      "outputs": []
    },
    {
      "cell_type": "markdown",
      "metadata": {
        "id": "AsksEUhEjjsO"
      },
      "source": [
        "###Plot of route (shortest path)"
      ]
    },
    {
      "cell_type": "code",
      "metadata": {
        "colab": {
          "base_uri": "https://localhost:8080/",
          "height": 542
        },
        "id": "eSDtn8n6cGug",
        "outputId": "8aa14a6b-eb79-4a4a-cd41-df06da70972a"
      },
      "source": [
        "plot_path(lat, long, origin_point, destination_point)\r\n"
      ],
      "execution_count": null,
      "outputs": [
        {
          "output_type": "display_data",
          "data": {
            "text/html": [
              "<html>\n",
              "<head><meta charset=\"utf-8\" /></head>\n",
              "<body>\n",
              "    <div>\n",
              "            <script src=\"https://cdnjs.cloudflare.com/ajax/libs/mathjax/2.7.5/MathJax.js?config=TeX-AMS-MML_SVG\"></script><script type=\"text/javascript\">if (window.MathJax) {MathJax.Hub.Config({SVG: {font: \"STIX-Web\"}});}</script>\n",
              "                <script type=\"text/javascript\">window.PlotlyConfig = {MathJaxConfig: 'local'};</script>\n",
              "        <script src=\"https://cdn.plot.ly/plotly-latest.min.js\"></script>    \n",
              "            <div id=\"1cd49c8c-c7c3-4f54-bbc1-1d694760f248\" class=\"plotly-graph-div\" style=\"height:525px; width:100%;\"></div>\n",
              "            <script type=\"text/javascript\">\n",
              "                \n",
              "                    window.PLOTLYENV=window.PLOTLYENV || {};\n",
              "                    \n",
              "                if (document.getElementById(\"1cd49c8c-c7c3-4f54-bbc1-1d694760f248\")) {\n",
              "                    Plotly.newPlot(\n",
              "                        '1cd49c8c-c7c3-4f54-bbc1-1d694760f248',\n",
              "                        [{\"lat\": [13.0956609, 13.0964934, 13.0976712, 13.0979147, 13.0980495, 13.0977355, 13.0978527, 13.097889, 13.0979251, 13.0979577, 13.0979804, 13.0980145, 13.0980391, 13.0980708, 13.0980937, 13.0981132, 13.0981212, 13.0982631, 13.0985647, 13.0987996, 13.0992995, 13.0993774, 13.0995074, 13.0993875, 13.0990158, 13.0987635, 13.0982237, 13.0979702, 13.097757, 13.097433, 13.0972607, 13.096111, 13.0954934, 13.0953077, 13.0944949, 13.0942589, 13.0934466, 13.0934233, 13.0927516, 13.0925603, 13.0922344, 13.0921493, 13.0916953, 13.0913365, 13.0911262, 13.0905985, 13.0903599, 13.090164, 13.0900486, 13.0895123, 13.089139, 13.0888819, 13.0887876, 13.0887057, 13.088607, 13.0884165, 13.0878205, 13.087522, 13.0871983, 13.0861746, 13.0850151, 13.0846019, 13.0839365, 13.0837682, 13.0834506, 13.0819482, 13.0815089, 13.081091, 13.079004, 13.0771609, 13.0756643, 13.0746592, 13.0732595, 13.0725745, 13.0734662, 13.073529, 13.0735214, 13.0734378, 13.06725, 13.0660225, 13.0645375, 13.0639498, 13.0624672, 13.0608845, 13.0599983, 13.0584761, 13.057327, 13.0560498, 13.0558545, 13.0542807, 13.0507377], \"line\": {\"color\": \"blue\", \"width\": 4.5}, \"lon\": [77.5705564, 77.5705378, 77.5701503, 77.5701761, 77.5701814, 77.567018, 77.5670114, 77.5672382, 77.5675022, 77.5677914, 77.5680866, 77.5683691, 77.5686584, 77.5689427, 77.5692133, 77.5695028, 77.5697652, 77.5709222, 77.5726495, 77.5739933, 77.5762845, 77.5766271, 77.5770934, 77.5771309, 77.5772595, 77.577343, 77.5775464, 77.5776595, 77.5777768, 77.5779637, 77.5780687, 77.578887, 77.5794844, 77.5796866, 77.5806784, 77.5810567, 77.5811301, 77.5811681, 77.5818206, 77.5820365, 77.5818874, 77.581848, 77.5827352, 77.5826114, 77.5825283, 77.5830685, 77.5829829, 77.5829126, 77.5831783, 77.58285, 77.5826215, 77.5834654, 77.5837751, 77.5840439, 77.5843679, 77.5849935, 77.5852076, 77.5851761, 77.5851419, 77.5850338, 77.5849114, 77.5848678, 77.5847975, 77.5847707, 77.5847201, 77.5842525, 77.5841157, 77.5839857, 77.5833385, 77.5825675, 77.5850678, 77.5873523, 77.5907721, 77.5925358, 77.5924966, 77.5924957, 77.592836, 77.5928441, 77.593296, 77.5934411, 77.5934748, 77.5934817, 77.5935607, 77.5936421, 77.5936563, 77.5936766, 77.593676, 77.5936632, 77.5936619, 77.5937502, 77.5933282], \"marker\": {\"size\": 10}, \"mode\": \"lines\", \"name\": \"Path\", \"type\": \"scattermapbox\"}, {\"lat\": [13.095893], \"lon\": [77.571627], \"marker\": {\"color\": \"red\", \"size\": 12}, \"mode\": \"markers\", \"name\": \"Source\", \"type\": \"scattermapbox\"}, {\"lat\": [13.051042], \"lon\": [77.593614], \"marker\": {\"color\": \"green\", \"size\": 12}, \"mode\": \"markers\", \"name\": \"Destination\", \"type\": \"scattermapbox\"}],\n",
              "                        {\"mapbox\": {\"center\": {\"lat\": 13.086472135164831, \"lon\": 77.58154323186812}, \"style\": \"stamen-terrain\", \"zoom\": 13}, \"margin\": {\"b\": 0, \"l\": 0, \"r\": 0, \"t\": 0}, \"template\": {\"data\": {\"bar\": [{\"error_x\": {\"color\": \"#2a3f5f\"}, \"error_y\": {\"color\": \"#2a3f5f\"}, \"marker\": {\"line\": {\"color\": \"#E5ECF6\", \"width\": 0.5}}, \"type\": \"bar\"}], \"barpolar\": [{\"marker\": {\"line\": {\"color\": \"#E5ECF6\", \"width\": 0.5}}, \"type\": \"barpolar\"}], \"carpet\": [{\"aaxis\": {\"endlinecolor\": \"#2a3f5f\", \"gridcolor\": \"white\", \"linecolor\": \"white\", \"minorgridcolor\": \"white\", \"startlinecolor\": \"#2a3f5f\"}, \"baxis\": {\"endlinecolor\": \"#2a3f5f\", \"gridcolor\": \"white\", \"linecolor\": \"white\", \"minorgridcolor\": \"white\", \"startlinecolor\": \"#2a3f5f\"}, \"type\": \"carpet\"}], \"choropleth\": [{\"colorbar\": {\"outlinewidth\": 0, \"ticks\": \"\"}, \"type\": \"choropleth\"}], \"contour\": [{\"colorbar\": {\"outlinewidth\": 0, \"ticks\": \"\"}, \"colorscale\": [[0.0, \"#0d0887\"], [0.1111111111111111, \"#46039f\"], [0.2222222222222222, \"#7201a8\"], [0.3333333333333333, \"#9c179e\"], [0.4444444444444444, \"#bd3786\"], [0.5555555555555556, \"#d8576b\"], [0.6666666666666666, \"#ed7953\"], [0.7777777777777778, \"#fb9f3a\"], [0.8888888888888888, \"#fdca26\"], [1.0, \"#f0f921\"]], \"type\": \"contour\"}], \"contourcarpet\": [{\"colorbar\": {\"outlinewidth\": 0, \"ticks\": \"\"}, \"type\": \"contourcarpet\"}], \"heatmap\": [{\"colorbar\": {\"outlinewidth\": 0, \"ticks\": \"\"}, \"colorscale\": [[0.0, \"#0d0887\"], [0.1111111111111111, \"#46039f\"], [0.2222222222222222, \"#7201a8\"], [0.3333333333333333, \"#9c179e\"], [0.4444444444444444, \"#bd3786\"], [0.5555555555555556, \"#d8576b\"], [0.6666666666666666, \"#ed7953\"], [0.7777777777777778, \"#fb9f3a\"], [0.8888888888888888, \"#fdca26\"], [1.0, \"#f0f921\"]], \"type\": \"heatmap\"}], \"heatmapgl\": [{\"colorbar\": {\"outlinewidth\": 0, \"ticks\": \"\"}, \"colorscale\": [[0.0, \"#0d0887\"], [0.1111111111111111, \"#46039f\"], [0.2222222222222222, \"#7201a8\"], [0.3333333333333333, \"#9c179e\"], [0.4444444444444444, \"#bd3786\"], [0.5555555555555556, \"#d8576b\"], [0.6666666666666666, \"#ed7953\"], [0.7777777777777778, \"#fb9f3a\"], [0.8888888888888888, \"#fdca26\"], [1.0, \"#f0f921\"]], \"type\": \"heatmapgl\"}], \"histogram\": [{\"marker\": {\"colorbar\": {\"outlinewidth\": 0, \"ticks\": \"\"}}, \"type\": \"histogram\"}], \"histogram2d\": [{\"colorbar\": {\"outlinewidth\": 0, \"ticks\": \"\"}, \"colorscale\": [[0.0, \"#0d0887\"], [0.1111111111111111, \"#46039f\"], [0.2222222222222222, \"#7201a8\"], [0.3333333333333333, \"#9c179e\"], [0.4444444444444444, \"#bd3786\"], [0.5555555555555556, \"#d8576b\"], [0.6666666666666666, \"#ed7953\"], [0.7777777777777778, \"#fb9f3a\"], [0.8888888888888888, \"#fdca26\"], [1.0, \"#f0f921\"]], \"type\": \"histogram2d\"}], \"histogram2dcontour\": [{\"colorbar\": {\"outlinewidth\": 0, \"ticks\": \"\"}, \"colorscale\": [[0.0, \"#0d0887\"], [0.1111111111111111, \"#46039f\"], [0.2222222222222222, \"#7201a8\"], [0.3333333333333333, \"#9c179e\"], [0.4444444444444444, \"#bd3786\"], [0.5555555555555556, \"#d8576b\"], [0.6666666666666666, \"#ed7953\"], [0.7777777777777778, \"#fb9f3a\"], [0.8888888888888888, \"#fdca26\"], [1.0, \"#f0f921\"]], \"type\": \"histogram2dcontour\"}], \"mesh3d\": [{\"colorbar\": {\"outlinewidth\": 0, \"ticks\": \"\"}, \"type\": \"mesh3d\"}], \"parcoords\": [{\"line\": {\"colorbar\": {\"outlinewidth\": 0, \"ticks\": \"\"}}, \"type\": \"parcoords\"}], \"pie\": [{\"automargin\": true, \"type\": \"pie\"}], \"scatter\": [{\"marker\": {\"colorbar\": {\"outlinewidth\": 0, \"ticks\": \"\"}}, \"type\": \"scatter\"}], \"scatter3d\": [{\"line\": {\"colorbar\": {\"outlinewidth\": 0, \"ticks\": \"\"}}, \"marker\": {\"colorbar\": {\"outlinewidth\": 0, \"ticks\": \"\"}}, \"type\": \"scatter3d\"}], \"scattercarpet\": [{\"marker\": {\"colorbar\": {\"outlinewidth\": 0, \"ticks\": \"\"}}, \"type\": \"scattercarpet\"}], \"scattergeo\": [{\"marker\": {\"colorbar\": {\"outlinewidth\": 0, \"ticks\": \"\"}}, \"type\": \"scattergeo\"}], \"scattergl\": [{\"marker\": {\"colorbar\": {\"outlinewidth\": 0, \"ticks\": \"\"}}, \"type\": \"scattergl\"}], \"scattermapbox\": [{\"marker\": {\"colorbar\": {\"outlinewidth\": 0, \"ticks\": \"\"}}, \"type\": \"scattermapbox\"}], \"scatterpolar\": [{\"marker\": {\"colorbar\": {\"outlinewidth\": 0, \"ticks\": \"\"}}, \"type\": \"scatterpolar\"}], \"scatterpolargl\": [{\"marker\": {\"colorbar\": {\"outlinewidth\": 0, \"ticks\": \"\"}}, \"type\": \"scatterpolargl\"}], \"scatterternary\": [{\"marker\": {\"colorbar\": {\"outlinewidth\": 0, \"ticks\": \"\"}}, \"type\": \"scatterternary\"}], \"surface\": [{\"colorbar\": {\"outlinewidth\": 0, \"ticks\": \"\"}, \"colorscale\": [[0.0, \"#0d0887\"], [0.1111111111111111, \"#46039f\"], [0.2222222222222222, \"#7201a8\"], [0.3333333333333333, \"#9c179e\"], [0.4444444444444444, \"#bd3786\"], [0.5555555555555556, \"#d8576b\"], [0.6666666666666666, \"#ed7953\"], [0.7777777777777778, \"#fb9f3a\"], [0.8888888888888888, \"#fdca26\"], [1.0, \"#f0f921\"]], \"type\": \"surface\"}], \"table\": [{\"cells\": {\"fill\": {\"color\": \"#EBF0F8\"}, \"line\": {\"color\": \"white\"}}, \"header\": {\"fill\": {\"color\": \"#C8D4E3\"}, \"line\": {\"color\": \"white\"}}, \"type\": \"table\"}]}, \"layout\": {\"annotationdefaults\": {\"arrowcolor\": \"#2a3f5f\", \"arrowhead\": 0, \"arrowwidth\": 1}, \"coloraxis\": {\"colorbar\": {\"outlinewidth\": 0, \"ticks\": \"\"}}, \"colorscale\": {\"diverging\": [[0, \"#8e0152\"], [0.1, \"#c51b7d\"], [0.2, \"#de77ae\"], [0.3, \"#f1b6da\"], [0.4, \"#fde0ef\"], [0.5, \"#f7f7f7\"], [0.6, \"#e6f5d0\"], [0.7, \"#b8e186\"], [0.8, \"#7fbc41\"], [0.9, \"#4d9221\"], [1, \"#276419\"]], \"sequential\": [[0.0, \"#0d0887\"], [0.1111111111111111, \"#46039f\"], [0.2222222222222222, \"#7201a8\"], [0.3333333333333333, \"#9c179e\"], [0.4444444444444444, \"#bd3786\"], [0.5555555555555556, \"#d8576b\"], [0.6666666666666666, \"#ed7953\"], [0.7777777777777778, \"#fb9f3a\"], [0.8888888888888888, \"#fdca26\"], [1.0, \"#f0f921\"]], \"sequentialminus\": [[0.0, \"#0d0887\"], [0.1111111111111111, \"#46039f\"], [0.2222222222222222, \"#7201a8\"], [0.3333333333333333, \"#9c179e\"], [0.4444444444444444, \"#bd3786\"], [0.5555555555555556, \"#d8576b\"], [0.6666666666666666, \"#ed7953\"], [0.7777777777777778, \"#fb9f3a\"], [0.8888888888888888, \"#fdca26\"], [1.0, \"#f0f921\"]]}, \"colorway\": [\"#636efa\", \"#EF553B\", \"#00cc96\", \"#ab63fa\", \"#FFA15A\", \"#19d3f3\", \"#FF6692\", \"#B6E880\", \"#FF97FF\", \"#FECB52\"], \"font\": {\"color\": \"#2a3f5f\"}, \"geo\": {\"bgcolor\": \"white\", \"lakecolor\": \"white\", \"landcolor\": \"#E5ECF6\", \"showlakes\": true, \"showland\": true, \"subunitcolor\": \"white\"}, \"hoverlabel\": {\"align\": \"left\"}, \"hovermode\": \"closest\", \"mapbox\": {\"style\": \"light\"}, \"paper_bgcolor\": \"white\", \"plot_bgcolor\": \"#E5ECF6\", \"polar\": {\"angularaxis\": {\"gridcolor\": \"white\", \"linecolor\": \"white\", \"ticks\": \"\"}, \"bgcolor\": \"#E5ECF6\", \"radialaxis\": {\"gridcolor\": \"white\", \"linecolor\": \"white\", \"ticks\": \"\"}}, \"scene\": {\"xaxis\": {\"backgroundcolor\": \"#E5ECF6\", \"gridcolor\": \"white\", \"gridwidth\": 2, \"linecolor\": \"white\", \"showbackground\": true, \"ticks\": \"\", \"zerolinecolor\": \"white\"}, \"yaxis\": {\"backgroundcolor\": \"#E5ECF6\", \"gridcolor\": \"white\", \"gridwidth\": 2, \"linecolor\": \"white\", \"showbackground\": true, \"ticks\": \"\", \"zerolinecolor\": \"white\"}, \"zaxis\": {\"backgroundcolor\": \"#E5ECF6\", \"gridcolor\": \"white\", \"gridwidth\": 2, \"linecolor\": \"white\", \"showbackground\": true, \"ticks\": \"\", \"zerolinecolor\": \"white\"}}, \"shapedefaults\": {\"line\": {\"color\": \"#2a3f5f\"}}, \"ternary\": {\"aaxis\": {\"gridcolor\": \"white\", \"linecolor\": \"white\", \"ticks\": \"\"}, \"baxis\": {\"gridcolor\": \"white\", \"linecolor\": \"white\", \"ticks\": \"\"}, \"bgcolor\": \"#E5ECF6\", \"caxis\": {\"gridcolor\": \"white\", \"linecolor\": \"white\", \"ticks\": \"\"}}, \"title\": {\"x\": 0.05}, \"xaxis\": {\"automargin\": true, \"gridcolor\": \"white\", \"linecolor\": \"white\", \"ticks\": \"\", \"title\": {\"standoff\": 15}, \"zerolinecolor\": \"white\", \"zerolinewidth\": 2}, \"yaxis\": {\"automargin\": true, \"gridcolor\": \"white\", \"linecolor\": \"white\", \"ticks\": \"\", \"title\": {\"standoff\": 15}, \"zerolinecolor\": \"white\", \"zerolinewidth\": 2}}}},\n",
              "                        {\"responsive\": true}\n",
              "                    ).then(function(){\n",
              "                            \n",
              "var gd = document.getElementById('1cd49c8c-c7c3-4f54-bbc1-1d694760f248');\n",
              "var x = new MutationObserver(function (mutations, observer) {{\n",
              "        var display = window.getComputedStyle(gd).display;\n",
              "        if (!display || display === 'none') {{\n",
              "            console.log([gd, 'removed!']);\n",
              "            Plotly.purge(gd);\n",
              "            observer.disconnect();\n",
              "        }}\n",
              "}});\n",
              "\n",
              "// Listen for the removal of the full notebook cells\n",
              "var notebookContainer = gd.closest('#notebook-container');\n",
              "if (notebookContainer) {{\n",
              "    x.observe(notebookContainer, {childList: true});\n",
              "}}\n",
              "\n",
              "// Listen for the clearing of the current output cell\n",
              "var outputEl = gd.closest('.output');\n",
              "if (outputEl) {{\n",
              "    x.observe(outputEl, {childList: true});\n",
              "}}\n",
              "\n",
              "                        })\n",
              "                };\n",
              "                \n",
              "            </script>\n",
              "        </div>\n",
              "</body>\n",
              "</html>"
            ]
          },
          "metadata": {
            "tags": []
          }
        }
      ]
    },
    {
      "cell_type": "code",
      "metadata": {
        "id": "jEil3k4KEcXQ"
      },
      "source": [
        "def sendsms():\r\n",
        "  from twilio.rest import Client \r\n",
        "  \r\n",
        "  account_sid = 'ACbb2a71dce2f1a735db0efbd425d6f3f8' \r\n",
        "  auth_token = '321842cb6e36f9b9343a1d0b2a238eb7' \r\n",
        "  client = Client(account_sid, auth_token) \r\n",
        "  \r\n",
        "  message = client.messages.create( \r\n",
        "                                from_='whatsapp:+14155238886',  \r\n",
        "                                body='HEY',      \r\n",
        "                                to='whatsapp:+917892389386' \r\n",
        "                            ) \r\n",
        "  \r\n",
        "  print(message.sid)"
      ],
      "execution_count": null,
      "outputs": []
    },
    {
      "cell_type": "code",
      "metadata": {
        "id": "-68Gq1IgrayR",
        "colab": {
          "base_uri": "https://localhost:8080/"
        },
        "outputId": "2b1baa5b-b9d6-4bef-a8c2-44122d5e2c2f"
      },
      "source": [
        "import geocoder\r\n",
        "g = geocoder.ip('me')\r\n",
        "#ll=g.latlng[0]\r\n",
        "#lon=g.latlng[1]\r\n",
        "ll=13.0834506\r\n",
        "lon=77.5847201\r\n",
        "print(ll,lon)\r\n",
        "findpoint(ll,lon)"
      ],
      "execution_count": null,
      "outputs": [
        {
          "output_type": "stream",
          "text": [
            "13.0834506 77.5847201\n",
            "SM73d5615c675542bdb42a45636c9552c6\n"
          ],
          "name": "stdout"
        }
      ]
    }
  ]
}